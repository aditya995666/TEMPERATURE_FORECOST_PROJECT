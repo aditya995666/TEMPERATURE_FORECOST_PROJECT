{
 "cells": [
  {
   "cell_type": "markdown",
   "id": "43c30d02-bbc1-42f8-8a17-fc1a81d2c6a6",
   "metadata": {},
   "source": [
    "\n",
    "# Temperature Forecast Project using ML\n",
    "\n",
    "Problem Statement:\n",
    "\n",
    " # Data Set Information:\n",
    "\n",
    "This data is for the purpose of bias correction of next-day maximum and minimum air temperatures forecast of the LDAPS model operated by the Korea Meteorological Administration over Seoul, South Korea. This data consists of summer data from 2013 to 2017. The input data is largely composed of the LDAPS model's next-day forecast data, in-situ maximum and minimum temperatures of present-day, and geographic auxiliary variables. There are two outputs (i.e. next-day maximum and minimum air temperatures) in this data. Hindcast validation was conducted for the period from 2015 to 2017.\n",
    "\n",
    " # Attribute Information:\n",
    "\n",
    "For more information, read [Cho et al, 2020].\n",
    "\n",
    "station - used weather station number: 1 to 25\n",
    "\n",
    "Date - Present day: yyyy-mm-dd ('2013-06-30' to '2017-08-30')\n",
    "\n",
    "Present_Tmax - Maximum air temperature between 0 and 21 h on the present day (Â°C): 20 to 37.6\n",
    "\n",
    "Present_Tmin - Minimum air temperature between 0 and 21 h on the present day (Â°C): 11.3 to 29.9\n",
    "\n",
    "LDAPS_RHmin - LDAPS model forecast of next-day minimum relative humidity (%): 19.8 to 98.5\n",
    "\n",
    "LDAPS_RHmax - LDAPS model forecast of next-day maximum relative humidity (%): 58.9 to 100\n",
    "\n",
    "LDAPS_Tmax_lapse - LDAPS model forecast of next-day maximum air temperature applied lapse rate (Â°C): 17.6 to 38.5\n",
    "\n",
    "LDAPS_Tmin_lapse - LDAPS model forecast of next-day minimum air temperature applied lapse rate (Â°C): 14.3 to 29.6\n",
    "\n",
    "LDAPS_WS - LDAPS model forecast of next-day average wind speed (m/s): 2.9 to 21.9\n",
    "\n",
    "LDAPS_LH - LDAPS model forecast of next-day average latent heat flux (W/m2): -13.6 to 213.4\n",
    "\n",
    "LDAPS_CC1 - LDAPS model forecast of next-day 1st 6-hour split average cloud cover (0-5 h) (%): 0 to 0.97\n",
    "\n",
    "LDAPS_CC2 - LDAPS model forecast of next-day 2nd 6-hour split average cloud cover (6-11 h) (%): 0 to 0.97\n",
    "\n",
    "LDAPS_CC3 - LDAPS model forecast of next-day 3rd 6-hour split average cloud cover (12-17 h) (%): 0 to 0.98\n",
    "\n",
    "LDAPS_CC4 - LDAPS model forecast of next-day 4th 6-hour split average cloud cover (18-23 h) (%): 0 to 0.97\n",
    "\n",
    "LDAPS_PPT1 - LDAPS model forecast of next-day 1st 6-hour split average precipitation (0-5 h) (%): 0 to 23.7\n",
    "\n",
    "\n",
    "LDAPS_PPT2 - LDAPS model forecast of next-day 2nd 6-hour split average precipitation (6-11 h) (%): 0 to 21.6\n",
    "\n",
    "LDAPS_PPT3 - LDAPS model forecast of next-day 3rd 6-hour split average precipitation (12-17 h) (%): 0 to 15.8\n",
    "\n",
    "LDAPS_PPT4 - LDAPS model forecast of next-day 4th 6-hour split average precipitation (18-23 h) (%): 0 to 16.7\n",
    "\n",
    "lat - Latitude (Â°): 37.456 to 37.645\n",
    "\n",
    "lon - Longitude (Â°): 126.826 to 127.135\n",
    "\n",
    "DEM - Elevation (m): 12.4 to 212.3\n",
    "\n",
    "Slope - Slope (Â°): 0.1 to 5.2\n",
    "Solar radiation - Daily incoming solar radiation (wh/m2): 4329.5 to 5992.9\n",
    "\n",
    "Next_Tmax - The next-day maximum air temperature (Â°C): 17.4 to 38.9\n",
    "\n",
    "Next_Tmin - The next-day minimum air temperature (Â°C): 11.3 to 29.8T\n",
    "\n",
    "Please note that there are two target variables here:\n",
    "\n",
    "\n",
    "1) Next_Tmax: Next day maximum temperature\n",
    "\n",
    "2) Next_Tmin: Next day minimum temperature"
   ]
  },
  {
   "cell_type": "code",
   "execution_count": null,
   "id": "28a8b2d0-e7d3-41dc-9e37-8f581dd96a2c",
   "metadata": {},
   "outputs": [],
   "source": [
    "# import liberary\n",
    "import pandas as pd\n",
    "import numpy as np\n",
    "import matplotlib.pyplot as plt\n",
    "import seaborn as sns\n"
   ]
  },
  {
   "cell_type": "code",
   "execution_count": null,
   "id": "16e8cbf6-b792-4dc8-ab69-94dc01048a53",
   "metadata": {},
   "outputs": [],
   "source": [
    "# read csv file\n",
    "df=pd.read_csv(r\"C:\\Users\\DELL\\3D Objects\\\\temperature forecaast_trainning project_2 dataset.csv\")\n",
    "df.head(10)"
   ]
  },
  {
   "cell_type": "code",
   "execution_count": null,
   "id": "19c5d629-29b5-4afd-8222-168e90473581",
   "metadata": {},
   "outputs": [],
   "source": [
    "# shape of dataset\n",
    "df.shape"
   ]
  },
  {
   "cell_type": "code",
   "execution_count": null,
   "id": "e054250a-6333-4ff3-9cd7-68a64c4124d1",
   "metadata": {},
   "outputs": [],
   "source": [
    "df.isnull().sum()"
   ]
  },
  {
   "cell_type": "code",
   "execution_count": null,
   "id": "130bc0bc-828a-4427-92a7-2cd1483b43b0",
   "metadata": {},
   "outputs": [],
   "source": [
    "# print max collumns and max row\n",
    "pd.set_option(\"display.max_columns\",None)\n",
    "pd.set_option(\"display.max_rows\",None)"
   ]
  },
  {
   "cell_type": "code",
   "execution_count": null,
   "id": "68ebfb8b-7193-4026-8665-ddeba13b29ae",
   "metadata": {},
   "outputs": [],
   "source": [
    "df.head()"
   ]
  },
  {
   "cell_type": "code",
   "execution_count": null,
   "id": "eec13b63-8dca-4695-b5ac-86cc0508e48e",
   "metadata": {},
   "outputs": [],
   "source": [
    "df.columns #  all collummns name "
   ]
  },
  {
   "cell_type": "code",
   "execution_count": null,
   "id": "e82b1e1f-d1a6-4168-b38c-4de3495ec8a1",
   "metadata": {},
   "outputs": [],
   "source": [
    "df[\"Date\"]"
   ]
  },
  {
   "cell_type": "code",
   "execution_count": null,
   "id": "a8cf6337-611d-46f1-a802-64512a5e9560",
   "metadata": {},
   "outputs": [],
   "source": [
    "df.isnull().sum()"
   ]
  },
  {
   "cell_type": "code",
   "execution_count": null,
   "id": "15e9581b-ffea-423a-bd5a-100d6e12ec75",
   "metadata": {},
   "outputs": [],
   "source": [
    "# drop null value because good amount of dataset\n",
    "df=df.dropna()"
   ]
  },
  {
   "cell_type": "code",
   "execution_count": null,
   "id": "82d94029-2b76-4f9d-968a-dacce210a731",
   "metadata": {},
   "outputs": [],
   "source": [
    "df.isnull().sum().sum()  # zero null values"
   ]
  },
  {
   "cell_type": "markdown",
   "id": "ac7a67f4-60e1-467a-9255-9533e09f07c6",
   "metadata": {},
   "source": [
    "# EDA"
   ]
  },
  {
   "cell_type": "code",
   "execution_count": null,
   "id": "bf2e76ad-dc8f-4815-a780-fc564cf084b5",
   "metadata": {},
   "outputs": [],
   "source": [
    "# check the information\n",
    "df.info()"
   ]
  },
  {
   "cell_type": "code",
   "execution_count": null,
   "id": "498e1597-0bee-42fa-b9a3-64487f6e4060",
   "metadata": {},
   "outputs": [],
   "source": [
    "df=df.drop(columns=[\"Date\"],axis=1) # drop date columns because object type daata"
   ]
  },
  {
   "cell_type": "code",
   "execution_count": null,
   "id": "8cbeac0e-c9e0-4869-8ff0-8a8c36643645",
   "metadata": {},
   "outputs": [],
   "source": [
    "plt.figure(figsize=(20,25))\n",
    "sns.heatmap(abs(df.corr()),annot=True) # it is highly multi colenearity so many columns"
   ]
  },
  {
   "cell_type": "code",
   "execution_count": null,
   "id": "1fe551a4-5262-4c5e-b777-9e2328155ad0",
   "metadata": {},
   "outputs": [],
   "source": [
    "df.head(2)"
   ]
  },
  {
   "cell_type": "code",
   "execution_count": null,
   "id": "476ce18c-43fb-4742-b80b-a5bf503853ad",
   "metadata": {},
   "outputs": [],
   "source": [
    "df.corr()"
   ]
  },
  {
   "cell_type": "code",
   "execution_count": null,
   "id": "86d46995-fdd7-4f35-8699-d6487e93d6f3",
   "metadata": {},
   "outputs": [],
   "source": [
    "# it is all numerical data"
   ]
  },
  {
   "cell_type": "code",
   "execution_count": null,
   "id": "321d8d4f-ddcd-409c-bf51-c1fe437a5d66",
   "metadata": {},
   "outputs": [],
   "source": [
    "df.shape"
   ]
  },
  {
   "cell_type": "code",
   "execution_count": null,
   "id": "5c7c1618-cd01-4e83-a11d-ba80f04329f4",
   "metadata": {},
   "outputs": [],
   "source": [
    "import warnings\n",
    "warnings.filterwarnings(\"ignore\")"
   ]
  },
  {
   "cell_type": "code",
   "execution_count": null,
   "id": "7561d883-f21c-453e-9837-3486e4517c05",
   "metadata": {},
   "outputs": [],
   "source": [
    "# distribution plot\n",
    "plt.figure(figsize=(40,40))\n",
    "graph=1\n",
    "for num in df.columns[:24]:\n",
    "    plt.subplot(6,4,graph)\n",
    "    sns.distplot(df[num])\n",
    "    plt.xlabel(num,fontsize=20)\n",
    "    graph+=1\n",
    "plt.show()\n",
    "# check the univarient analysis"
   ]
  },
  {
   "cell_type": "code",
   "execution_count": null,
   "id": "00bcaffa-6d45-4190-b115-a84961925426",
   "metadata": {},
   "outputs": [],
   "source": [
    "# drop station columnn\n",
    "df=df.drop(columns=[\"station\"],axis=1)"
   ]
  },
  {
   "cell_type": "code",
   "execution_count": null,
   "id": "97ac4b35-85cb-47ad-b13e-8a9defd5530d",
   "metadata": {},
   "outputs": [],
   "source": [
    "df.columns"
   ]
  },
  {
   "cell_type": "code",
   "execution_count": null,
   "id": "082f1f26-0c39-4f40-a407-49681d645514",
   "metadata": {},
   "outputs": [],
   "source": [
    "df.shape"
   ]
  },
  {
   "cell_type": "code",
   "execution_count": null,
   "id": "06d18e89-8862-4aba-bce9-8a19907d3b77",
   "metadata": {},
   "outputs": [],
   "source": [
    "df.describe()"
   ]
  },
  {
   "cell_type": "code",
   "execution_count": null,
   "id": "d3fd922c-38b3-409f-a5a1-bb7a1dc99966",
   "metadata": {},
   "outputs": [],
   "source": [
    "df[\"LDAPS_PPT3\"].unique()"
   ]
  },
  {
   "cell_type": "code",
   "execution_count": null,
   "id": "a47f5710-7231-4b4f-9735-3c0f667a3ae8",
   "metadata": {},
   "outputs": [],
   "source": [
    "df[\"LDAPS_PPT4\"].unique()"
   ]
  },
  {
   "cell_type": "markdown",
   "id": "7c348ada-e834-429f-aaa9-21ff8817beaa",
   "metadata": {},
   "source": [
    "* checking the outlier"
   ]
  },
  {
   "cell_type": "code",
   "execution_count": null,
   "id": "a73dbcb2-dc4f-4431-9e8e-22c34cdc022c",
   "metadata": {},
   "outputs": [],
   "source": [
    "# print the boxplot\n",
    "plt.figure(figsize=(40,80))\n",
    "graph=1\n",
    "for num in df.columns[:23]:\n",
    "    plt.subplot(6,4,graph)\n",
    "    sns.boxplot(df[num]) # check the outlier\n",
    "    plt.xlabel(num,fontsize=20)\n",
    "    graph+=1\n",
    "plt.show()\n"
   ]
  },
  {
   "cell_type": "code",
   "execution_count": null,
   "id": "a0de89b8-fa84-40e4-8c17-ae7fa93557a3",
   "metadata": {},
   "outputs": [],
   "source": [
    "abs(df.corr()[\"Next_Tmin\"]).sort_values(ascending=False)"
   ]
  },
  {
   "cell_type": "code",
   "execution_count": null,
   "id": "fd1fc77f-33d9-442e-a792-cbe036e4819a",
   "metadata": {},
   "outputs": [],
   "source": [
    "abs(df.corr()[\"Next_Tmin\"]).sort_values(ascending=False)"
   ]
  },
  {
   "cell_type": "code",
   "execution_count": null,
   "id": "a04e15a1-7238-4340-b6e1-fc0dd7d23817",
   "metadata": {},
   "outputs": [],
   "source": [
    "# visulization of target variable\n",
    "df.drop(columns=[\"Next_Tmax\"]).corrwith(df[\"Next_Tmax\"]).plot(kind='bar',figsize=(15,15))"
   ]
  },
  {
   "cell_type": "code",
   "execution_count": null,
   "id": "0bce8be8-4f0c-4d49-b964-20b4c664f332",
   "metadata": {},
   "outputs": [],
   "source": [
    "df.drop(columns=[\"Next_Tmin\"]).corrwith(df[\"Next_Tmin\"]).plot(kind='bar',figsize=(15,15))"
   ]
  },
  {
   "cell_type": "code",
   "execution_count": null,
   "id": "707e1f43-4aca-4c67-a2de-c260205fe694",
   "metadata": {},
   "outputs": [],
   "source": [
    "# removing the outlier\n",
    "q1=df.quantile(0.25)\n",
    "q3=df.quantile(0.75)\n",
    "\n",
    "iqr=q3-q1\n",
    "print(iqr)"
   ]
  },
  {
   "cell_type": "code",
   "execution_count": null,
   "id": "04d0a531-2960-4465-9918-e70ec0661ce9",
   "metadata": {},
   "outputs": [],
   "source": [
    "# OUTLIER DETECTION \n",
    "out=(q3.Present_Tmax-1.5*iqr.Present_Tmax)\n",
    "print(out)\n",
    "index=np.where(df[\"Present_Tmax\"]<out)\n",
    "df=df.drop(df.index[index])\n",
    "df.shape\n",
    "df=df.reset_index()"
   ]
  },
  {
   "cell_type": "markdown",
   "id": "a6e01b0c-efca-4468-808d-cf007ccf9d89",
   "metadata": {},
   "source": [
    "# DATA  PREPROCESSSING"
   ]
  },
  {
   "cell_type": "code",
   "execution_count": null,
   "id": "214bc88d-2c96-401d-b476-a532cf62b306",
   "metadata": {},
   "outputs": [],
   "source": [
    "X=df.drop(columns=['Next_Tmax','Next_Tmin'],axis=1)\n",
    "y1=df[\"Next_Tmin\"]   \n",
    "y2=df[\"Next_Tmax\"]\n"
   ]
  },
  {
   "cell_type": "markdown",
   "id": "0009ef06-e559-4e9e-99bf-9ea45cc8b83f",
   "metadata": {},
   "source": [
    "#  standization and normalization"
   ]
  },
  {
   "cell_type": "code",
   "execution_count": null,
   "id": "96534cf3-74ac-4fc5-a1f1-dac5b700a7a1",
   "metadata": {},
   "outputs": [],
   "source": [
    "from sklearn.preprocessing import MinMaxScaler, PowerTransformer\n",
    "\n",
    "# Scale the features\n",
    "scaler = MinMaxScaler()\n",
    "x_scale = scaler.fit_transform(X)\n",
    "X=pd.DataFrame(X)"
   ]
  },
  {
   "cell_type": "code",
   "execution_count": null,
   "id": "e474146b-c5b6-48df-84ca-90a8ec98845a",
   "metadata": {},
   "outputs": [],
   "source": [
    "pt = PowerTransformer(method='yeo-johnson')\n",
    "x_transformed = pt.fit_transform(x_scale)\n",
    "X=pd.DataFrame(X)"
   ]
  },
  {
   "cell_type": "markdown",
   "id": "c2c847de-dac8-4bbd-b6a0-e62fb33fa9da",
   "metadata": {},
   "source": [
    "# vif for multicolinearity"
   ]
  },
  {
   "cell_type": "code",
   "execution_count": null,
   "id": "412c1e2f-3009-4099-ba25-2b768c3c6d79",
   "metadata": {},
   "outputs": [],
   "source": [
    " from statsmodels.stats.outliers_influence import variance_inflation_factor\n",
    "vif=pd.DataFrame()\n",
    "vif[\"vif\"]=[variance_inflation_factor(x_transformed,i) for i in range(x_transformed.shape[1])]"
   ]
  },
  {
   "cell_type": "code",
   "execution_count": null,
   "id": "35d32b63-28be-4c5b-912a-474affc6d86a",
   "metadata": {},
   "outputs": [],
   "source": [
    "vif[\"Feature\"]=X.columns\n",
    "vif"
   ]
  },
  {
   "cell_type": "markdown",
   "id": "26ea2b0d-aacc-4727-82ef-9285ed61bf6b",
   "metadata": {},
   "source": [
    "# to remove the multicolinearity PCA is applied"
   ]
  },
  {
   "cell_type": "code",
   "execution_count": null,
   "id": "cde43b38-9877-4e0c-9bba-8c7e76a01556",
   "metadata": {},
   "outputs": [],
   "source": [
    "from sklearn.decomposition import PCA"
   ]
  },
  {
   "cell_type": "code",
   "execution_count": null,
   "id": "eaf4aebd-a969-4bca-ba80-3d17141538c2",
   "metadata": {},
   "outputs": [],
   "source": [
    "pca=PCA(n_components=13)\n",
    "principal_component=pca.fit_transform(X)  # TOP 13 COLUMNS USE OF PCA MODELS\n",
    "X=pd.DataFrame(principal_component)"
   ]
  },
  {
   "cell_type": "code",
   "execution_count": null,
   "id": "cdd46cde-dc55-4c88-957d-ccdfc1a94c76",
   "metadata": {},
   "outputs": [],
   "source": [
    "X.shape"
   ]
  },
  {
   "cell_type": "markdown",
   "id": "dce2c5fd-501d-4c7f-babd-8d36b9d9981a",
   "metadata": {},
   "source": [
    "# MODEL TRAINING (Next_Tmax prediction)"
   ]
  },
  {
   "cell_type": "code",
   "execution_count": null,
   "id": "34effdec-68fc-4d43-8e4e-484b3739acdc",
   "metadata": {},
   "outputs": [],
   "source": [
    "\n",
    "from sklearn.metrics import r2_score,mean_squared_error\n"
   ]
  },
  {
   "cell_type": "code",
   "execution_count": null,
   "id": "11a1c491-89f5-4923-98fa-7b1acf293008",
   "metadata": {},
   "outputs": [],
   "source": [
    "from sklearn.linear_model import LinearRegression\n",
    "from sklearn.metrics import r2_score\n",
    "from sklearn.model_selection import train_test_split\n",
    "\n",
    "lr = LinearRegression()\n",
    "\n",
    "for i in range(0, 1000):\n",
    "    x_train, x_test, y_train, y_test = train_test_split(X, y1, test_size=0.2, random_state=i)\n",
    "    lr.fit(x_train, y_train)\n",
    "    \n",
    "    pred_train = lr.predict(x_train)\n",
    "    pred_test = lr.predict(x_test)\n",
    "    \n",
    "    train_r2 = r2_score(y_train, pred_train) * 100\n",
    "    test_r2 = r2_score(y_test, pred_test) * 100\n",
    "    \n",
    "    if round(train_r2, 1) == round(test_r2, 1):\n",
    "        print(\"Random state:\", i)\n",
    "        print(\"Training R² score:\", train_r2)\n",
    "        print(\"Testing R² score:\", test_r2)"
   ]
  },
  {
   "cell_type": "code",
   "execution_count": null,
   "id": "6b1771ae-3428-4eee-9ce5-4bc920f7230c",
   "metadata": {},
   "outputs": [],
   "source": [
    "# y2 predicctton\n",
    "from sklearn.linear_model import LinearRegression\n",
    "from sklearn.metrics import r2_score\n",
    "from sklearn.model_selection import train_test_split\n",
    "\n",
    "lr = LinearRegression()\n",
    "\n",
    "for i in range(0, 1000):\n",
    "    x_train, x_test, y_train, y_test = train_test_split(X, y2, test_size=0.2, random_state=i)\n",
    "    lr.fit(x_train, y_train)\n",
    "    \n",
    "    pred_train = lr.predict(x_train)\n",
    "    pred_test = lr.predict(x_test)\n",
    "    \n",
    "    train_r2 = r2_score(y_train, pred_train) * 100\n",
    "    test_r2 = r2_score(y_test, pred_test) * 100\n",
    "    \n",
    "    if round(train_r2, 1) == round(test_r2, 1):\n",
    "        print(\"Random state:\", i)\n",
    "        print(\"Training R² score:\", train_r2)\n",
    "        print(\"Testing R² score:\", test_r2)"
   ]
  },
  {
   "cell_type": "markdown",
   "id": "6d8e0152-d720-4621-bf6d-d09b5ace84ed",
   "metadata": {},
   "source": [
    "# random state  y1=995 and y2=295"
   ]
  },
  {
   "cell_type": "code",
   "execution_count": null,
   "id": "1db66fde-596b-4b06-a4d1-9b39f107006a",
   "metadata": {},
   "outputs": [],
   "source": [
    "# split y1\n",
    "from sklearn.model_selection import train_test_split\n",
    "x_train,x_test,y_train,y_test=train_test_split(X,y1,random_state=995,test_size=0.2)\n",
    "print(\"shape of x_train\",x_train.shape)\n",
    "print(\"shape of x_test\",x_test.shape)\n",
    "print(\"shape of y_train\",y_train.shape)\n",
    "print(\"shape of y_test\",y_test.shape)"
   ]
  },
  {
   "cell_type": "code",
   "execution_count": null,
   "id": "aa77adb4-8760-4d0c-9ff0-ca183409ba90",
   "metadata": {},
   "outputs": [],
   "source": [
    "# split y2\n",
    "from sklearn.model_selection import train_test_split\n",
    "x_train2,x_test2,y_train2,y_test2=train_test_split(X,y2,random_state=295,test_size=0.2)\n",
    "print(\"shape of x_train\",x_train.shape)\n",
    "print(\"shape of x_test\",x_test.shape)\n",
    "print(\"shape of y_train\",y_train.shape)\n",
    "print(\"shape of y_test\",y_test.shape)"
   ]
  },
  {
   "cell_type": "code",
   "execution_count": null,
   "id": "63374640-fdcf-4e2a-a3c9-5be93ede31f0",
   "metadata": {},
   "outputs": [],
   "source": [
    "# import metrix\n",
    "from sklearn.metrics import mean_absolute_error,mean_squared_error,r2_score\n",
    "\n"
   ]
  },
  {
   "cell_type": "code",
   "execution_count": null,
   "id": "950d6f04-b555-4913-9bff-0342405c1c6b",
   "metadata": {},
   "outputs": [],
   "source": [
    "# imporrt ligistic regression y1 model\n",
    "from sklearn.linear_model import LinearRegression\n",
    "lr=LinearRegression()\n",
    "lr.fit(x_train,y_train)\n",
    "pred=lr.predict(x_test)\n",
    "print(\"score of model\",r2_score(y_test,pred))\n",
    "mse=mean_squared_error(y_test,pred)\n",
    "print(\"mean absolute eerror\",mean_absolute_error(y_test,pred))\n",
    "print(np.sqrt(mse))\n",
    "\n",
    "# print skplot\n",
    "import scikitplot as skplt\n",
    "skplt.estimators.plot_learning_curve(lr,X,y1,cv=5,scoring='r2',title=\"LinearRegression\")\n"
   ]
  },
  {
   "cell_type": "code",
   "execution_count": null,
   "id": "617065bb-c4c0-40cd-b94b-b9a9cd72f00e",
   "metadata": {},
   "outputs": [],
   "source": [
    "# imporrt ligistic regression y2 model\n",
    "from sklearn.linear_model import LinearRegression\n",
    "lr=LinearRegression()\n",
    "lr.fit(x_train2,y_train2)\n",
    "pred=lr.predict(x_test2)\n",
    "print(\"score of model\",r2_score(y_test2,pred))\n",
    "mse=mean_squared_error(y_test2,pred)\n",
    "print(\"mean absolute eerror\",mean_absolute_error(y_test2,pred))\n",
    "print(np.sqrt(mse))\n",
    "\n",
    "# print skplot\n",
    "import scikitplot as skplt\n",
    "skplt.estimators.plot_learning_curve(lr,X,y1,scoring='r2',title=\"LinearRegression\")"
   ]
  },
  {
   "cell_type": "markdown",
   "id": "f98f36b6-235a-4311-a18d-e8785b68c13a",
   "metadata": {},
   "source": [
    "# ensemble learning"
   ]
  },
  {
   "cell_type": "code",
   "execution_count": null,
   "id": "777864b2-9093-4ad2-b490-32c40e656744",
   "metadata": {},
   "outputs": [],
   "source": [
    "# random forest for y1\n",
    "from sklearn.ensemble import RandomForestRegressor\n",
    "RM=RandomForestRegressor()\n",
    "RM.fit(x_train,y_train)\n",
    "pred_rm=RM.predict(x_test)\n",
    "print(r2_score(y_test,pred_rm))\n",
    "print(\"mean absolute erors\",mean_absolute_error(y_test,pred_rm))\n",
    "mse=mean_squared_error(y_test,pred_rm)\n",
    "print(\"RMSE\",np.sqrt(mse))\n",
    "\n",
    "# plot\n",
    "#skplt.estimators.plot_learning_curve(RM,X,y1,cv=5,scoring=\"r2\",title=\"RANDOMFOREST\")"
   ]
  },
  {
   "cell_type": "code",
   "execution_count": null,
   "id": "8ad518ed-7992-4414-be65-3143af8e869a",
   "metadata": {},
   "outputs": [],
   "source": [
    "# random forest for y1\n",
    "from sklearn.ensemble import RandomForestRegressor\n",
    "RM=RandomForestRegressor()\n",
    "RM.fit(x_train2,y_train2)\n",
    "pred_rm=RM.predict(x_test2)\n",
    "print(r2_score(y_test2,pred_rm))\n",
    "print(\"mean absolute erors\",mean_absolute_error(y_test2,pred_rm))\n",
    "mse=mean_squared_error(y_test2,pred_rm)\n",
    "print(\"RMSE\",np.sqrt(mse))\n",
    "\n",
    "# plot\n",
    "##skplt.estimators.plot_learning_curve(RM,X,y1,cv=5,scoring=\"r2\",title=\"RANDOMFOREST\")"
   ]
  },
  {
   "cell_type": "code",
   "execution_count": null,
   "id": "111db2d0-15b1-445d-b4c8-5714286ba380",
   "metadata": {},
   "outputs": [],
   "source": [
    "#  gradient bosting for y1\n",
    "from sklearn.ensemble import GradientBoostingRegressor\n",
    "gb=GradientBoostingRegressor()\n",
    "gb.fit(x_train,y_train)\n",
    "pred_gb=gb.predict(x_test)\n",
    "print(r2_score(y_test,pred_gb))\n",
    "print(\"mean absolute erors\",mean_absolute_error(y_test,pred_gb))\n",
    "mse=mean_squared_error(y_test,pred_gb)\n",
    "print(\"RMSE\",np.sqrt(mse))\n",
    "\n",
    "# plot\n",
    "# skplt.estimators.plot_learning_curve(RM,X,y1,cv=5,scoring=\"r2\",title=\"Gradient_boosting\")"
   ]
  },
  {
   "cell_type": "code",
   "execution_count": null,
   "id": "511f55c0-3a04-4907-b062-692e3101f60c",
   "metadata": {},
   "outputs": [],
   "source": [
    "#  gradient bosting for y2\n",
    "from sklearn.ensemble import GradientBoostingRegressor\n",
    "gb=GradientBoostingRegressor()\n",
    "gb.fit(x_train2,y_train2)\n",
    "pred_gb=gb.predict(x_test2)\n",
    "print(r2_score(y_test2,pred_gb))\n",
    "print(\"mean absolute erors\",mean_absolute_error(y_test2,pred_gb))\n",
    "mse=mean_squared_error(y_test2,pred_gb)\n",
    "print(\"RMSE\",np.sqrt(mse))\n",
    "\n",
    "# plot\n",
    "# skplt.estimators.plot_learning_curve(RM,X,y1,cv=5,scoring=\"r2\",title=\"Gradient_boosting\")"
   ]
  },
  {
   "cell_type": "code",
   "execution_count": null,
   "id": "4b8d3561-3b2c-4440-a8c9-f509a79ee2c2",
   "metadata": {},
   "outputs": [],
   "source": [
    "#  xgb for y1\n",
    "from xgboost import XGBRegressor\n",
    "xgb=XGBRegressor()\n",
    "xgb.fit(x_train,y_train)\n",
    "pred_gb=xgb.predict(x_test)\n",
    "print(r2_score(y_test,pred_gb))\n",
    "print(\"mean absolute erors\",mean_absolute_error(y_test,pred_gb))\n",
    "mse=mean_squared_error(y_test,pred_gb)\n",
    "print(\"RMSE\",np.sqrt(mse))\n",
    "\n",
    "# plot\n",
    "# skplt.estimators.plot_learning_curve(RM,X,y1,cv=5,scoring=\"r2\",title=\"Gradient_boosting\")"
   ]
  },
  {
   "cell_type": "code",
   "execution_count": null,
   "id": "da2a885e-7449-4763-bf0c-4883047cc635",
   "metadata": {},
   "outputs": [],
   "source": [
    "#  xgb for y2\n",
    "from xgboost import XGBRegressor\n",
    "xgb1=XGBRegressor()\n",
    "xgb1.fit(x_train2,y_train2)\n",
    "pred_gb=xgb1.predict(x_test2)\n",
    "print(r2_score(y_test2,pred_gb))\n",
    "print(\"mean absolute erors\",mean_absolute_error(y_test2,pred_gb))\n",
    "mse=mean_squared_error(y_test2,pred_gb)\n",
    "print(\"RMSE\",np.sqrt(mse))\n",
    "\n",
    "# plot\n",
    "# skplt.estimators.plot_learning_curve(RM,X,y1,cv=5,scoring=\"r2\",title=\"Gradient_boosting\")"
   ]
  },
  {
   "cell_type": "markdown",
   "id": "a6110afb-e640-4bcc-abeb-6436015bb691",
   "metadata": {},
   "source": [
    "# xgboost model - hypertuning "
   ]
  },
  {
   "cell_type": "code",
   "execution_count": null,
   "id": "9d46dfed-9553-4b33-9de5-3cdbc475508c",
   "metadata": {},
   "outputs": [],
   "source": [
    "#from sklearn.model_selection import train_test_split\n",
    "#from sklearn.model_selection import GridSearchCV\n",
    "#x_train,x_test,y_train,y_test=train_test_split(X,y1,test_size=0.2,random_state=995)\n",
    "#3params={\n",
    " #   \"n_estimators\":range(2,100),\n",
    "  #  \"max_depth\":range(1,100),\n",
    "   # \"learning_rate\":[0.1,0.2,0.3,0.4,0.5,0.6,0.7,0.8],\n",
    "    \n",
    "    \n",
    "#}\n",
    "#rsc = GridSearchCV(estimator=xgb, param_grid=params, cv=3)\n",
    "                      \n",
    "#rsc.fit(x_train,y_train)\n",
    "#rsc1=rsc.best_estimator_\n",
    "\n",
    "#rsc1.fit(x_train,y_train)\n",
    "#predf=rsc1.predict(x_test)\n",
    "#print(\"score\",r2_score(y_test,predf))\n",
    "#print(\"mean absolute errors\",mean_absolute_error(y_test,predf\n",
    "                                          #     ))\n",
    "# it is reducce the accuracy affter hypertuning"
   ]
  },
  {
   "cell_type": "markdown",
   "id": "5278a9b8-77c4-4ea7-a2c1-f32f157708a9",
   "metadata": {},
   "source": [
    "# randomforestregressor - hyperparamter tuning"
   ]
  },
  {
   "cell_type": "code",
   "execution_count": null,
   "id": "ee335c31-82cf-4c74-a58a-9a21fbb28de2",
   "metadata": {},
   "outputs": [],
   "source": [
    "# random forest for y1\n",
    "from sklearn.model_selection import train_test_split\n",
    "from sklearn.model_selection import RandomizedSearchCV\n",
    "x_train,x_test,y_train,y_test=train_test_split(X,y1,test_size=0.2,random_state=995)\n",
    "params={\n",
    "    \"n_estimators\":[50,100],\n",
    "    \"min_samples_split\":range(2,4),\n",
    "    \"min_samples_leaf\":range(1,2,1)\n",
    "    \n",
    "    \n",
    "    \n",
    "}\n",
    "rsc=RandomizedSearchCV(estimator=RM,param_distributions=params,cv=3\n",
    "                      )\n",
    "rsc.fit(x_train,y_train)\n",
    "rsc2=rsc.best_estimator_\n",
    "\n",
    "rsc2.fit(x_train,y_train)\n",
    "predf2=rsc2.predict(x_test)\n",
    "\n",
    "\n",
    "print(r2_score(y_test,predf2))\n",
    "print(\"mean absolute erors\",mean_absolute_error(y_test,predf2))\n",
    "mse=mean_squared_error(y_test,predf2)\n",
    "print(\"RMSE\",np.sqrt(mse))"
   ]
  },
  {
   "cell_type": "markdown",
   "id": "39f87d77-e77c-458d-a926-373732bb5306",
   "metadata": {},
   "source": [
    "# After hyperparameter tuning and cross validation Randomforrest as our best model"
   ]
  },
  {
   "cell_type": "code",
   "execution_count": null,
   "id": "b8ee664d-276d-4a42-8ac9-ad4116efe809",
   "metadata": {},
   "outputs": [],
   "source": [
    "import joblib\n",
    "joblib.dump(rsc.best_estimator_,\"temperature_prediction_Next_Tmax2.pkl\")"
   ]
  },
  {
   "cell_type": "code",
   "execution_count": null,
   "id": "71261d42-caf2-477c-aa59-e7f70e295fde",
   "metadata": {},
   "outputs": [],
   "source": [
    "# random forest for y2\n",
    "from sklearn.model_selection import train_test_split\n",
    "from sklearn.model_selection import RandomizedSearchCV\n",
    "x_train2,x_test2,y_train2,y_test2=train_test_split(X,y1,test_size=0.2,random_state=295)\n",
    "params={\n",
    "    \"n_estimators\":[50,100],\n",
    "    \"min_samples_split\":range(2,4),\n",
    "    \"min_samples_leaf\":range(1,2,1)\n",
    "    \n",
    "    \n",
    "    \n",
    "}\n",
    "rsc=RandomizedSearchCV(estimator=RM,param_distributions=params,cv=3\n",
    "                      )\n",
    "rsc.fit(x_train2,y_train2)\n",
    "rsc2=rsc.best_estimator_\n",
    "\n",
    "rsc2.fit(x_train2,y_train2)\n",
    "predf2=rsc2.predict(x_test2)\n",
    "\n",
    "\n",
    "print(r2_score(y_test2,predf2))\n",
    "print(\"mean absolute erors\",mean_absolute_error(y_test2,predf2))\n",
    "mse=mean_squared_error(y_test2,predf2)\n",
    "print(\"RMSE\",np.sqrt(mse))"
   ]
  },
  {
   "cell_type": "code",
   "execution_count": null,
   "id": "9309121c-7baf-496f-81ba-f58c5bd11b73",
   "metadata": {},
   "outputs": [],
   "source": [
    "import joblib\n",
    "joblib.dump(rsc.best_estimator_,\"temperature_prediction_Next_Tmin2.pkl\")"
   ]
  },
  {
   "cell_type": "code",
   "execution_count": null,
   "id": "bd9fabde-b5d4-4b31-a1f1-8793c4d80c67",
   "metadata": {},
   "outputs": [],
   "source": [
    "# our model y2\n",
    "model=joblib.load(\"temperature_prediction_Next_Tmin2.pkl\")\n",
    "pred_tmin=model.predict(x_test2)\n",
    "df=pd.DataFrame(pred_tmin,columns=[\"predicted\"])"
   ]
  },
  {
   "cell_type": "code",
   "execution_count": null,
   "id": "3076bb60-2579-4886-8f94-6448d831f7a3",
   "metadata": {},
   "outputs": [],
   "source": [
    "# our model y1\n",
    "model=joblib.load(\"temperature_prediction_Next_Tmax2.pkl\")\n",
    "pred_tmin=model.predict(x_test)\n",
    "df=pd.DataFrame(pred_tmin,columns=[\"predicted\"])"
   ]
  },
  {
   "cell_type": "code",
   "execution_count": null,
   "id": "191ba9cc-d73f-4a71-a299-d9fb48a1c90d",
   "metadata": {},
   "outputs": [],
   "source": [
    "print(\"end----------------------------\")"
   ]
  },
  {
   "cell_type": "code",
   "execution_count": null,
   "id": "47e19411-7bd2-43ab-aa00-3fe88eda7919",
   "metadata": {},
   "outputs": [],
   "source": []
  }
 ],
 "metadata": {
  "kernelspec": {
   "display_name": "Python 3 (ipykernel)",
   "language": "python",
   "name": "python3"
  },
  "language_info": {
   "codemirror_mode": {
    "name": "ipython",
    "version": 3
   },
   "file_extension": ".py",
   "mimetype": "text/x-python",
   "name": "python",
   "nbconvert_exporter": "python",
   "pygments_lexer": "ipython3",
   "version": "3.11.7"
  }
 },
 "nbformat": 4,
 "nbformat_minor": 5
}
